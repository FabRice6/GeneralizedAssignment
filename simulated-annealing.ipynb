{
 "cells": [
  {
   "cell_type": "code",
   "execution_count": 43,
   "metadata": {},
   "outputs": [
    {
     "name": "stdout",
     "output_type": "stream",
     "text": [
      "   TRANSACTION_ID  TIMESTAMP ACTION  NET_QUANTITY\n",
      "0               1          1   RFNS            20\n",
      "1               2          1   RFPS           100\n",
      "2               3          3   RFPS            55\n",
      "3               4          4   RFNS            60\n",
      "4               5          5   RFNS            25\n",
      "5               6          6   RFNS            30\n",
      "6               7          7   RFNS            20\n"
     ]
    }
   ],
   "source": [
    "import pandas \n",
    "import numpy\n",
    "\n",
    "#TODO Add variable that decides if we stop at first full_quantity match solution, or search further\n",
    "#TODO Add overstoch variable\n",
    "\n",
    "# HYPERSPACE\n",
    "# the data is sorted by time\n",
    "# random data\n",
    "data = [\n",
    "    [1, 1, \"RFNS\", 20],\n",
    "    [2, 1, \"RFPS\", 100],\n",
    "    [3, 3, \"RFPS\", 55],\n",
    "    [4, 4, \"RFNS\", 60],\n",
    "    [5, 5, \"RFNS\", 25],\n",
    "    [6, 6, \"RFNS\", 30],\n",
    "    [7, 7, \"RFNS\", 20]\n",
    "]\n",
    "# perfect FIFO\n",
    "# data = [\n",
    "#     [1, 1, \"RFNS\", 100],\n",
    "#     [2, 1, \"RFPS\", 100],\n",
    "#     [3, 3, \"RFPS\", 50],\n",
    "#     [4, 3, \"RFPS\", 50],\n",
    "#     [5, 5, \"RFNS\", 50],\n",
    "#     [6, 6, \"RFNS\", 25],\n",
    "#     [7, 7, \"RFNS\", 25]\n",
    "# ]\n",
    "df = pandas.DataFrame(data, columns=[\"TRANSACTION_ID\", \"TIMESTAMP\", \"ACTION\", \"NET_QUANTITY\"])\n",
    "\n",
    "backflushing_penalty = -1000\n",
    "link_profit = 1\n",
    "action_that_puts = \"RFPS\"\n",
    "action_that_takes = \"RFNS\"\n",
    "action_column = \"ACTION\"\n",
    "quantity_column = \"NET_QUANTITY\"\n",
    "allowed_x_values = [0, 1]\n",
    "\n",
    "print(df)"
   ]
  },
  {
   "cell_type": "code",
   "execution_count": 44,
   "metadata": {},
   "outputs": [
    {
     "name": "stdout",
     "output_type": "stream",
     "text": [
      "put df:    TRANSACTION_ID  TIMESTAMP ACTION  NET_QUANTITY\n",
      "0               2          1   RFPS           100\n",
      "1               3          3   RFPS            55\n",
      "take df:    TRANSACTION_ID  TIMESTAMP ACTION  NET_QUANTITY\n",
      "0               1          1   RFNS            20\n",
      "1               4          4   RFNS            60\n",
      "2               5          5   RFNS            25\n",
      "3               6          6   RFNS            30\n",
      "4               7          7   RFNS            20\n",
      "number of puts: 2\n",
      "number of takes: 5\n",
      "profits: [[    1     1     1     1     1]\n",
      " [-1000     1     1     1     1]]\n",
      "put quantities: [100  55]\n",
      "take quantities: [20 60 25 30 20]\n",
      "put cumul quantities: [100 155]\n",
      "take cumul quantities: [ 20  80 105 135 155]\n",
      "x: [[1 1 0 0 0]\n",
      " [0 0 1 1 1]]\n"
     ]
    }
   ],
   "source": [
    "# Prepare the data\n",
    "put_df = df[df[action_column] == action_that_puts].reset_index(drop=True)\n",
    "take_df = df[df[action_column] == action_that_takes].reset_index(drop=True)\n",
    "nb_puts = len(put_df.index)\n",
    "nb_takes = len(take_df.index)\n",
    "\n",
    "# profit matrix\n",
    "profits = numpy.full((nb_puts, nb_takes), link_profit, dtype=int)\n",
    "# Find backflushing examples and correct the profit matrix with backflushing penalties\n",
    "for put_id, row in put_df.iterrows():\n",
    "    \n",
    "    put_timestamp = row[\"TIMESTAMP\"]\n",
    "    backflushing_take_ids = list(take_df[take_df[\"TIMESTAMP\"] < put_timestamp].index.values)\n",
    "    \n",
    "    for take_id in backflushing_take_ids:\n",
    "        profits[put_id][take_id] = backflushing_penalty\n",
    "\n",
    "# quantities\n",
    "put_q = numpy.array(put_df[quantity_column].values)\n",
    "take_q = numpy.array(take_df[quantity_column].values)\n",
    "\n",
    "# choose initial solution that will be the optimum in case of perfect FIFO\n",
    "put_cumulative_q = numpy.cumsum(put_q)\n",
    "take_cumulative_q = numpy.cumsum(take_q)\n",
    "x = numpy.zeros((nb_puts, nb_takes), dtype=int)\n",
    "for t_i, t_q in enumerate(take_cumulative_q):\n",
    "    for p_i, p_q in enumerate(put_cumulative_q):\n",
    "        if p_q >= t_q:\n",
    "            x[p_i][t_i] = 1\n",
    "            break\n",
    "\n",
    "print(f\"put df: {put_df}\")\n",
    "print(f\"take df: {take_df}\")\n",
    "print(f\"number of puts: {nb_puts}\")\n",
    "print(f\"number of takes: {nb_takes}\")\n",
    "print(f\"profits: {profits}\")\n",
    "print(f\"put quantities: {put_q}\")\n",
    "print(f\"take quantities: {take_q}\")\n",
    "print(f\"put cumul quantities: {put_cumulative_q}\")\n",
    "print(f\"take cumul quantities: {take_cumulative_q}\")\n",
    "print(f\"x: {x}\")\n"
   ]
  },
  {
   "cell_type": "code",
   "execution_count": 58,
   "metadata": {},
   "outputs": [
    {
     "name": "stdout",
     "output_type": "stream",
     "text": [
      "Test constraints on initial solution: viable = False, full quantity match = False\n"
     ]
    }
   ],
   "source": [
    "\n",
    "# inequality constraints \n",
    "# (Note: limits of the decision variable can be integrated in the generation of a new solution)\n",
    "# (Source: https://programmer.ink/think/processing-of-python-programming-constraints-of-simulated-annealing-algorithm.html)\n",
    "def _test_quantity_constraint(x):\n",
    "    \"\"\"\n",
    "    Compare the linked take quantities with the put quantities they come from.\n",
    "    Linked quantities should never be greater than their corresponding put quantity.\n",
    "\n",
    "    In principle, we need a full match and only the full match will optimize the objective ftn,\n",
    "    but to limit calculation times, it may be interesting to accept non-optimal solutions.\n",
    "\n",
    "    :param x:           the proposed solution\n",
    "    :return viable:     boolean variable that indicates if the solution is viable\n",
    "    \"\"\"\n",
    "    linked_quantities = numpy.matmul(x, take_q)\n",
    "\n",
    "    return numpy.less_equal(linked_quantities, put_q).all():\n",
    "\n",
    "def _test_full_quantity_match(x):\n",
    "    \"\"\"\n",
    "    Compare the linked take quantities with the put quantities they come from.\n",
    "    If the linked take quantities are equal to to their corresponding put quantity,\n",
    "    we have a full quantity match.\n",
    "\n",
    "    :param x:           the proposed solution\n",
    "    :return full_match: boolean variable that indicates if the solution is perfect\n",
    "    \"\"\"\n",
    "    linked_quantities = numpy.matmul(x, take_q)\n",
    "\n",
    "    return numpy.array_equal(linked_quantities, put_q)\n"
   ]
  },
  {
   "cell_type": "code",
   "execution_count": null,
   "metadata": {},
   "outputs": [],
   "source": [
    "# CREATE ONE VIABLE SOLUTION - Simulated annealing\n",
    "def _generate_viable_solution(x):\n",
    "\n",
    "    #TODO calculate some new solution\n",
    "    x_new = None\n",
    "\n",
    "    # test the solution\n",
    "    viable_solution = _test_quantity_constraint(x_new)\n",
    "\n",
    "    if not viable_solution:\n",
    "        _generate_viable_solution(x_new)\n",
    "    \n",
    "    return x_new\n",
    "    \n",
    "def _simulated_annealing(x_old):\n",
    "\n",
    "    # this is the core algotithm\n",
    "\n",
    "    #TODO Create a viable solution with the previous function\n",
    "    x_new = _generate_viable_solution(x_old)\n",
    "    #(Not sure abt this one)TODO In case we have a perfect quantity match, return the solution and end the algo\n",
    "    if _test_full_quantity_match(x_new):\n",
    "        return x_new\n",
    "    #TODO Calculate profit\n",
    "    #TODO Follow simulated annealing principles to choose between solutions and repeat the loop\n",
    "\n",
    "def apply():\n",
    "    return None\n"
   ]
  },
  {
   "cell_type": "code",
   "execution_count": null,
   "metadata": {},
   "outputs": [],
   "source": [
    "# SIMULATED ANNEALING\n",
    "# Iteratively create viable solutions with the above function, and then find the one that optimizes a goal function"
   ]
  },
  {
   "cell_type": "code",
   "execution_count": null,
   "metadata": {},
   "outputs": [],
   "source": []
  }
 ],
 "metadata": {
  "interpreter": {
   "hash": "a5eeb716b1723f3228d52da811ef62d5b6666132daa825ae869cf4e18b8834f3"
  },
  "kernelspec": {
   "display_name": "Python 3.8.5",
   "language": "python",
   "name": "python3"
  },
  "language_info": {
   "codemirror_mode": {
    "name": "ipython",
    "version": 3
   },
   "file_extension": ".py",
   "mimetype": "text/x-python",
   "name": "python",
   "nbconvert_exporter": "python",
   "pygments_lexer": "ipython3",
   "version": "3.8.5"
  },
  "orig_nbformat": 4
 },
 "nbformat": 4,
 "nbformat_minor": 2
}
